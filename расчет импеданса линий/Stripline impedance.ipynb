{
 "cells": [
  {
   "cell_type": "code",
   "execution_count": 3,
   "metadata": {},
   "outputs": [
    {
     "name": "stdout",
     "output_type": "stream",
     "text": [
      "Populating the interactive namespace from numpy and matplotlib\n"
     ]
    }
   ],
   "source": [
    "%pylab inline\n",
    "import numpy as np\n",
    "from scipy.special import ellipk as K\n",
    "from scipy.optimize import fsolve as solve"
   ]
  },
  {
   "cell_type": "code",
   "execution_count": 4,
   "metadata": {},
   "outputs": [],
   "source": [
    "materials = []"
   ]
  },
  {
   "cell_type": "code",
   "execution_count": 5,
   "metadata": {},
   "outputs": [],
   "source": [
    "RO4003C1 = {\"name\": \"Stripline 3.5\",\n",
    "      \"thikness\": 100e-6,\n",
    "      \"metal thikness\": 18e-6,\n",
    "      \"eps\": 3.5,\n",
    "      \"cpw_b_min\": 0}\n",
    "\n",
    "\n",
    "\n",
    "materials = np.array([RO4003C1])"
   ]
  },
  {
   "cell_type": "code",
   "execution_count": 4,
   "metadata": {},
   "outputs": [],
   "source": [
    "RO4350B0 = {\"name\": \"RO4350B/RO4450F\",\n",
    "      \"thikness\": 101e-6,\n",
    "      \"metal thikness\": 18e-6,\n",
    "      \"eps\": 3.5,\n",
    "      \"cpw_b_min\": 0}\n",
    "\n",
    "RO4350B1 = {\"name\": \"RO4350B\",\n",
    "      \"thikness\": 254e-6,\n",
    "      \"metal thikness\": 18e-6,\n",
    "      \"eps\": 3.48,\n",
    "      \"cpw_b_min\": 0}\n",
    "\n",
    "RO4350B2 = {\"name\": \"RO4350B\",\n",
    "      \"thikness\": 338e-6,\n",
    "      \"metal thikness\": 18e-6,\n",
    "      \"eps\": 3.48,\n",
    "      \"cpw_b_min\": 0}\n",
    "\n",
    "RO4350B3 = {\"name\": \"RO4350B\",\n",
    "      \"thikness\": 508e-6,\n",
    "      \"metal thikness\": 18e-6,\n",
    "      \"eps\": 3.48,\n",
    "      \"cpw_b_min\": 0}\n",
    "\n",
    "RO4350B4 = {\"name\": \"RO4350B\",\n",
    "      \"thikness\": 762e-6,\n",
    "      \"metal thikness\": 18e-6,\n",
    "      \"eps\": 3.48,\n",
    "      \"cpw_b_min\": 0}\n",
    "\n",
    "RO4350B5 = {\"name\": \"RO4350B\",\n",
    "      \"thikness\": 1524e-6,\n",
    "      \"metal thikness\": 18e-6,\n",
    "      \"eps\": 3.48,\n",
    "      \"cpw_b_min\": 0}\n",
    "\n",
    "RO4350B6 = {\"name\": \"RO4350B\",\n",
    "      \"thikness\": 508e-6,\n",
    "      \"metal thikness\": 35e-6,\n",
    "      \"eps\": 3.48,\n",
    "      \"cpw_b_min\": 0}\n",
    "\n",
    "RO4350B7 = {\"name\": \"RO4350B\",\n",
    "      \"thikness\": 762e-6,\n",
    "      \"metal thikness\": 35e-6,\n",
    "      \"eps\": 3.48,\n",
    "      \"cpw_b_min\": 0}\n",
    "\n",
    "materials.append([RO4350B0, RO4350B1, RO4350B2, RO4350B3, RO4350B4,\n",
    "             RO4350B5, RO4350B6, RO4350B7])"
   ]
  },
  {
   "cell_type": "code",
   "execution_count": 5,
   "metadata": {},
   "outputs": [],
   "source": [
    "ArlonAD10001 = {\"name\": \"Arlon AD1000\",\n",
    "      \"thikness\": 508e-6,\n",
    "      \"metal thikness\": 18e-6,\n",
    "      \"eps\": 10.0,\n",
    "      \"cpw_b_min\": 0}\n",
    "\n",
    "ArlonAD10002 = {\"name\": \"Arlon AD1000\",\n",
    "      \"thikness\": 635e-6,\n",
    "      \"metal thikness\": 18e-6,\n",
    "      \"eps\": 10.2,\n",
    "      \"cpw_b_min\": 0}\n",
    "\n",
    "ArlonAD10003 = {\"name\": \"Arlon AD1000\",\n",
    "      \"thikness\": 1270e-6,\n",
    "      \"metal thikness\": 18e-6,\n",
    "      \"eps\": 10.6,\n",
    "      \"cpw_b_min\": 0}\n",
    "\n",
    "materials.append([ArlonAD10001, ArlonAD10002, ArlonAD10003])"
   ]
  },
  {
   "cell_type": "code",
   "execution_count": 6,
   "metadata": {},
   "outputs": [],
   "source": [
    "ArlonTC600 = {\"name\": \"Arlon TC600\",\n",
    "      \"thikness\": 508e-6,\n",
    "      \"metal thikness\": 18e-6,\n",
    "      \"eps\": 6.15,\n",
    "      \"cpw_b_min\": 0}\n",
    "materials.append([ArlonTC600])\n",
    "\n",
    "ArlonAD250 = {\"name\": \"Arlon AD250\",\n",
    "      \"thikness\": 508e-6,\n",
    "      \"metal thikness\": 18e-6,\n",
    "      \"eps\": 2.5,\n",
    "      \"cpw_b_min\": 0}\n",
    "\n",
    "materials.append([ArlonAD250])"
   ]
  },
  {
   "cell_type": "code",
   "execution_count": 7,
   "metadata": {},
   "outputs": [],
   "source": [
    "ArlonAD255C1 = {\"name\": \"Arlon AD255C\",\n",
    "      \"thikness\": 1016e-6,\n",
    "      \"metal thikness\": 18e-6,\n",
    "      \"eps\": 2.55,\n",
    "      \"cpw_b_min\": 0}\n",
    "\n",
    "ArlonAD255C2 = {\"name\": \"Arlon AD255C\",\n",
    "      \"thikness\": 1524e-6,\n",
    "      \"metal thikness\": 18e-6,\n",
    "      \"eps\": 2.55,\n",
    "      \"cpw_b_min\": 0}\n",
    "\n",
    "ArlonAD255C3 = {\"name\": \"Arlon AD255C\",\n",
    "      \"thikness\": 2032e-6,\n",
    "      \"metal thikness\": 18e-6,\n",
    "      \"eps\": 2.55,\n",
    "      \"cpw_b_min\": 0}\n",
    "\n",
    "ArlonAD255C4 = {\"name\": \"Arlon AD255C\",\n",
    "      \"thikness\": 1016e-6,\n",
    "      \"metal thikness\": 35e-6,\n",
    "      \"eps\": 2.55,\n",
    "      \"cpw_b_min\": 0}\n",
    "\n",
    "ArlonAD255C5 = {\"name\": \"Arlon AD255C\",\n",
    "      \"thikness\": 1524e-6,\n",
    "      \"metal thikness\": 35e-6,\n",
    "      \"eps\": 2.55,\n",
    "      \"cpw_b_min\": 0}\n",
    "\n",
    "ArlonAD255C6 = {\"name\": \"Arlon AD255C\",\n",
    "      \"thikness\": 2032e-6,\n",
    "      \"metal thikness\": 35e-6,\n",
    "      \"eps\": 2.55,\n",
    "      \"cpw_b_min\": 0}\n",
    "\n",
    "materials.append([ArlonAD255C1, ArlonAD255C2, ArlonAD255C3, ArlonAD255C4,\n",
    "                 ArlonAD255C5, ArlonAD255C6])"
   ]
  },
  {
   "cell_type": "code",
   "execution_count": 8,
   "metadata": {},
   "outputs": [],
   "source": [
    "RO30031 = {\"name\": \"RO3003\",\n",
    "      \"thikness\": 254e-6,\n",
    "      \"metal thikness\": 35e-6,\n",
    "      \"eps\": 3.0,\n",
    "      \"cpw_b_min\": 0}\n",
    "\n",
    "RO30032 = {\"name\": \"RO3003\",\n",
    "      \"thikness\": 508e-6,\n",
    "      \"metal thikness\": 35e-6,\n",
    "      \"eps\": 3.0,\n",
    "      \"cpw_b_min\": 0}\n",
    "\n",
    "RO30033 = {\"name\": \"RO3003\",\n",
    "      \"thikness\": 762e-6,\n",
    "      \"metal thikness\": 35e-6,\n",
    "      \"eps\": 3.0,\n",
    "      \"cpw_b_min\": 0}\n",
    "\n",
    "materials.append([RO30031, RO30032, RO30033])"
   ]
  },
  {
   "cell_type": "code",
   "execution_count": 9,
   "metadata": {},
   "outputs": [],
   "source": [
    "def cpw_impedance(s, w, t, h1, h2, e1, e2): # работает\n",
    "    c = 3.*1e8 \n",
    "    e0 = 8.85418*1e-12\n",
    "    \n",
    "    def prime(value):\n",
    "        return np.sqrt(1 - value**2)\n",
    "    \n",
    "    h1 = h1\n",
    "    h2 = h2\n",
    "    h3 = h1\n",
    "    h4 = h2\n",
    "    pi = np.pi\n",
    "    \n",
    "    d = 2 * t / pi\n",
    "    a = s / 2.\n",
    "    b = s / 2. + w\n",
    "    w1 = a + d / 2 - d * np.log(d / a) / 2 + 3 / 2 * d * np.log(2) - d / 2 * np.log((a + b) / (b - a))\n",
    "    w2 = b - d / 2 + d * np.log(d / a) / 2 - 3 / 2 * d * np.log(2) + d / 2 * np.log((a + b) / (b - a))\n",
    "    s = 2 * w1\n",
    "    w = w2 - w1\n",
    "    b = s + 2*w\n",
    "    \n",
    "    k1 = np.tanh(pi*s/4/h1)/np.tanh(pi*b/4/h1)\n",
    "    k2 = np.tanh(pi*s/4/h2)/np.tanh(pi*b/4/h2)\n",
    "\n",
    "    k1prime = prime(k1)\n",
    "    k2prime = prime(k2)\n",
    "    \n",
    "    denom = K(k1**2)/K(k1prime**2) + K(k2**2)/K(k2prime**2)\n",
    "    q1 = K(k1**2)/K(k1prime**2)/denom\n",
    "    q2 = K(k2**2)/K(k2prime**2)/denom\n",
    "    \n",
    "    eeff = 1 + q1*(e1-1) + q2*(e2-1)\n",
    "    z0 = 60*pi/np.sqrt(eeff)/denom\n",
    "    return z0\n",
    "\n",
    "def cpw_50(b, t, h1, h2, e1, e2): # работает\n",
    "    def func(s, b, t, h1, h2, e1, e2):\n",
    "        w = (b - s)/2.\n",
    "        return cpw_impedance(s, w, t, h1, h2, e1, e2) - 50.\n",
    "    s = solve(func, 10e-6, args = (b, t, h1, h2, e1, e2), xtol = 1e-9)[0]\n",
    "    w = (b - s)/2.\n",
    "    return s, w\n",
    "\n",
    "cpw_50_vec = np.vectorize(cpw_50)\n",
    "\n",
    "def cpw_50_s(s, t, h1, h2, e1, e2, init_point): # работает\n",
    "    def func(b, s, t, h1, h2, e1, e2):\n",
    "        w = (b - s)/2.\n",
    "        return cpw_impedance(s, w, t, h1, h2, e1, e2) - 50.\n",
    "    b = solve(func, init_point, args = (s, t, h1, h2, e1, e2), xtol = 1e-12, maxfev = 1000)[0]\n",
    "    w = (b - s)/2.\n",
    "    return b, w\n",
    "\n",
    "def cpw_50_w(w, t, h1, h2, e1, e2, init_point): # работает\n",
    "    def func(b, w, t, h1, h2, e1, e2):\n",
    "        s = b - 2*w\n",
    "        return cpw_impedance(s, w, t, h1, h2, e1, e2) - 50.\n",
    "    b = solve(func, init_point, args = (w, t, h1, h2, e1, e2), xtol = 1e-12, maxfev = 1000)[0]\n",
    "    s = b - 2*w\n",
    "    return b, s\n",
    "\n"
   ]
  },
  {
   "cell_type": "code",
   "execution_count": 10,
   "metadata": {},
   "outputs": [
    {
     "data": {
      "text/plain": [
       "45.01846447005754"
      ]
     },
     "execution_count": 10,
     "metadata": {},
     "output_type": "execute_result"
    }
   ],
   "source": [
    "cpw_impedance(1000e-6, 1000e-6, 18e-6, 1000e-6, 100, 10, 1)"
   ]
  },
  {
   "cell_type": "code",
   "execution_count": 11,
   "metadata": {},
   "outputs": [
    {
     "name": "stdout",
     "output_type": "stream",
     "text": [
      "393.85624010389665 303.0718799480517\n"
     ]
    }
   ],
   "source": [
    "s, w = cpw_50(1000e-6, 18e-6, 1000e-6, 100, 10, 1)\n",
    "print(s*1e6, w*1e6)"
   ]
  },
  {
   "cell_type": "code",
   "execution_count": 12,
   "metadata": {},
   "outputs": [],
   "source": [
    "def shielded_stripline_impedance(w, g, b, t, e):# работает\n",
    "    e0 = 8.85418*1e-12\n",
    "    pi = np.pi\n",
    "    Cf = 1\n",
    "    Cf *= e0/pi\n",
    "    Cf *= (b*np.log((2*b-t)/t)/(b-t) + np.log(t*(2*b-t)/(b-t)**2))\n",
    "    Cf0 = 2*e0/pi*np.log(2)\n",
    "    z0 = 1\n",
    "    z0 *= 30*pi/np.sqrt(e)\n",
    "    z0 = z0/(w/(b-t) + 2*Cf*np.log(1+1/np.tanh(pi*g/b))/pi/Cf0)\n",
    "    return z0\n",
    "\n",
    "def strip_50_w(b, t, h1, h2, e1, e2, init_point): # работает\n",
    "    def func(b, w, t, h1, h2, e1, e2):\n",
    "        s = b - 2*w\n",
    "        return cpw_impedance(s, w, t, h1, h2, e1, e2) - 50.\n",
    "    b = solve(func, init_point, args = (w, t, h1, h2, e1, e2), xtol = 1e-12, maxfev = 1000)[0]\n",
    "    s = b - 2*w\n",
    "    return b, s"
   ]
  },
  {
   "cell_type": "code",
   "execution_count": 13,
   "metadata": {},
   "outputs": [
    {
     "data": {
      "text/plain": [
       "26.637128043147026"
      ]
     },
     "execution_count": 13,
     "metadata": {},
     "output_type": "execute_result"
    }
   ],
   "source": [
    "shielded_stripline_impedance(w = 1000e-6, g = 500e-6, b = 2000e-6, t = 18e-6, e = 10)"
   ]
  },
  {
   "cell_type": "code",
   "execution_count": 14,
   "metadata": {},
   "outputs": [],
   "source": [
    "def fivewire_line_impedance(d, D, e):\n",
    "    z0 = 120*2.5044*np.log(D/0.933/d)/np.sqrt(e)\n",
    "    return z0"
   ]
  },
  {
   "cell_type": "code",
   "execution_count": 71,
   "metadata": {},
   "outputs": [],
   "source": [
    "\n",
    "\n",
    "def stripline_analyse(work_array, b, shielding_high):\n",
    "    \n",
    "    colors = ['#1f77b4',\n",
    "          '#ff7f0e',\n",
    "          '#2ca02c',\n",
    "          '#d62728',\n",
    "          '#9467bd',\n",
    "          '#8c564b',\n",
    "          '#e377c2',\n",
    "          '#7f7f7f',\n",
    "          '#bcbd22',\n",
    "          '#17becf',\n",
    "          '#1a55FF',\n",
    "          '#4faf7e']\n",
    "    \n",
    "    fig, ax = plt.subplots(1, 2)\n",
    "    for mat in work_array:\n",
    "        s_loc, w_loc = cpw_50_vec(b, mat['metal thikness'], mat['thikness'], shielding_high, mat['eps'], 1)\n",
    "\n",
    "        name = str(mat['name']) + \", \" + str(int(mat['thikness']*1e6)) + \", \"  + str(mat['eps'])\n",
    "        \n",
    "        ax[0].plot(b*1e6, s_loc*1e6, label = name)\n",
    "        ax[1].plot(b*1e6, w_loc*1e6, label = name)\n",
    "\n",
    "        \n",
    "#     plt.legend(loc = 'upper left')\n",
    "    ax[0].grid(True)\n",
    "    ax[1].grid(True)\n",
    "#     ax[0].set_xlim(90, 600)\n",
    "#     ax[1].set_xlim(90, 600)\n",
    "#     ax[0].axhline(y=75, color=\"black\", linestyle=\"--\")\n",
    "#     ax[1].axhline(y=75, color=\"black\", linestyle=\"--\")\n",
    "#     ax[0].axhline(y=100, color=\"grey\", linestyle=\"--\")\n",
    "#     ax[1].axhline(y=100, color=\"grey\", linestyle=\"--\")\n",
    "#     ax[0].axhline(y=125, color=\"#A9A9A9\", linestyle=\"--\")\n",
    "#     ax[1].axhline(y=125, color=\"#A9A9A9\", linestyle=\"--\")\n",
    "    \n",
    "    ax[0].axhline(y=75, color=\"black\")\n",
    "    ax[1].axhline(y=75, color=\"black\")\n",
    "    ax[0].axhline(y=100, color=\"grey\")\n",
    "    ax[1].axhline(y=100, color=\"grey\")\n",
    "    ax[0].axhline(y=125, color=\"#A9A9A9\")\n",
    "    ax[1].axhline(y=125, color=\"#A9A9A9\")\n",
    "    \n",
    "    ax[0].set_xlabel(r'$b, \\mu m$',fontsize = 'large')\n",
    "    ax[0].set_ylabel(r'$s, \\mu m$',fontsize = 'large')\n",
    "    ax[1].set_xlabel(r'$b, \\mu m$',fontsize = 'large')\n",
    "    ax[1].set_ylabel(r'$w, \\mu m$',fontsize = 'large')\n",
    "    \n",
    "    fig.set_figwidth(16)    \n",
    "    fig.set_figheight(6)\n",
    "#     fig.savefig('open_cpw_1(mult)', dpi = 300)\n",
    "    plt.show()\n",
    "    \n",
    "    \n",
    "    \n"
   ]
  },
  {
   "cell_type": "code",
   "execution_count": 72,
   "metadata": {},
   "outputs": [],
   "source": [
    "b = np.linspace(200, 1000, 500)*1e-6"
   ]
  },
  {
   "cell_type": "code",
   "execution_count": null,
   "metadata": {},
   "outputs": [],
   "source": []
  }
 ],
 "metadata": {
  "kernelspec": {
   "display_name": "Python 3",
   "language": "python",
   "name": "python3"
  },
  "language_info": {
   "codemirror_mode": {
    "name": "ipython",
    "version": 3
   },
   "file_extension": ".py",
   "mimetype": "text/x-python",
   "name": "python",
   "nbconvert_exporter": "python",
   "pygments_lexer": "ipython3",
   "version": "3.7.6"
  }
 },
 "nbformat": 4,
 "nbformat_minor": 4
}
